{
 "cells": [
  {
   "cell_type": "code",
   "execution_count": 1,
   "metadata": {},
   "outputs": [],
   "source": [
    "#!/usr/bin/env python"
   ]
  },
  {
   "cell_type": "markdown",
   "metadata": {},
   "source": [
    "# Stage-IV-at-COOP_PR.ipynb"
   ]
  },
  {
   "cell_type": "code",
   "execution_count": 2,
   "metadata": {},
   "outputs": [
    {
     "data": {
      "text/plain": [
       "' \\n   Stage-IV-at-COOP_PR.ipynb\\n\\n   Read in stage-IV houlry precipitation at the location of COOP stations\\n   by using inverse distance averaging of the four closest gridcells and the closest grid cell\\n   \\n   This program needs data from:\\n   papers/2021_Hist-Ext-PR-Changes/programs/COOP_Station_preprocessor/COOP_Station_preprocessor.ipynb\\n   \\n'"
      ]
     },
     "execution_count": 2,
     "metadata": {},
     "output_type": "execute_result"
    }
   ],
   "source": [
    "''' \n",
    "   Stage-IV-at-COOP_PR.ipynb\n",
    "\n",
    "   Read in stage-IV houlry precipitation at the location of COOP stations\n",
    "   by using inverse distance averaging of the four closest gridcells and the closest grid cell\n",
    "   \n",
    "   This program needs data from:\n",
    "   papers/2021_Hist-Ext-PR-Changes/programs/COOP_Station_preprocessor/COOP_Station_preprocessor.ipynb\n",
    "   \n",
    "'''"
   ]
  },
  {
   "cell_type": "code",
   "execution_count": 3,
   "metadata": {},
   "outputs": [],
   "source": [
    "import numpy as np\n",
    "from scipy import stats\n",
    "import matplotlib.pyplot as plt\n",
    "from netCDF4 import Dataset\n",
    "import glob\n",
    "import os\n",
    "from pdb import set_trace as stop\n",
    "from scipy.ndimage.filters import gaussian_filter\n",
    "from scipy.ndimage import median_filter\n",
    "from scipy.ndimage import label\n",
    "from matplotlib import cm\n",
    "from scipy import ndimage\n",
    "import random\n",
    "import scipy\n",
    "import pickle\n",
    "import datetime\n",
    "import pandas as pd\n",
    "import subprocess\n",
    "from calendar import monthrange\n",
    "import pandas as pd\n",
    "import datetime\n",
    "import sys \n",
    "import shapefile as shp\n",
    "import matplotlib.path as mplPath\n",
    "from scipy.stats import norm\n",
    "import matplotlib.gridspec as gridspec\n",
    "# from mpl_toolkits.basemap import Basemap, cm\n",
    "from matplotlib.colors import LinearSegmentedColormap\n",
    "import matplotlib.gridspec as gridspec\n",
    "from pylab import *\n",
    "import string\n",
    "from matplotlib.patches import Polygon\n",
    "from matplotlib.collections import PatchCollection\n",
    "import shapefile\n",
    "from calendar import monthrange\n",
    "from tqdm import tqdm\n",
    "\n",
    "\n",
    "# # fix pickle load issue\n",
    "# np_load_old = np.load\n",
    "# # modify the default parameters of np.load\n",
    "# np.load = lambda *a,**k: np_load_old(*a, allow_pickle=True, **k)\n",
    "\n",
    "\n",
    "\n",
    "# from: https://rafatieppo.github.io/post/2018_07_27_idw2pyr/\n",
    "# packages\n",
    "import math\n",
    "import numpy as np\n",
    "#------------------------------------------------------------\n",
    "# Distance calculation, degree to km (Haversine method)\n",
    "def harvesine(lon1, lat1, lon2, lat2):\n",
    "    rad = math.pi / 180  # degree to radian\n",
    "    R = 6378.1  # earth average radius at equador (km)\n",
    "    dlon = (lon2 - lon1) * rad\n",
    "    dlat = (lat2 - lat1) * rad\n",
    "\n",
    "    a = (np.sin(dlat / 2)) ** 2 + np.cos(lat1 * rad) * \\\n",
    "        np.cos(lat2 * rad) * (np.sin(dlon / 2)) ** 2\n",
    "    c = 2 * np.arctan2(np.sqrt(a), np.sqrt(1 - a))\n",
    "    d = R * c\n",
    "    return(d)\n",
    "\n",
    "# ------------------------------------------------------------\n",
    "# Prediction\n",
    "def idwr(x, y, z, xi, yi):\n",
    "    lstxyzi = []\n",
    "    for p in range(len(xi)):\n",
    "        lstdist = []\n",
    "        for s in range(len(x)):\n",
    "            d = (harvesine(x[s], y[s], xi[p], yi[p]))\n",
    "            lstdist.append(d)\n",
    "        sumsup = list((1 / np.power(lstdist, 2)))\n",
    "        suminf = np.sum(sumsup)\n",
    "        sumsup = np.sum(np.array(sumsup) * np.array(z))\n",
    "        u = sumsup / suminf\n",
    "        xyzi = [xi[p], yi[p], u]\n",
    "        lstxyzi.append(xyzi)\n",
    "    return(lstxyzi)"
   ]
  },
  {
   "cell_type": "markdown",
   "metadata": {},
   "source": [
    "###  USER MODIFY SECTION"
   ]
  },
  {
   "cell_type": "code",
   "execution_count": 4,
   "metadata": {},
   "outputs": [],
   "source": [
    "StartDay = datetime.datetime(2001, 10, 1,0)\n",
    "StopDay = datetime.datetime(2018, 12, 31,23)\n",
    "rgdTimeFULL=pd.date_range(StartDay, end=StopDay, freq='h')\n",
    "rgdTimeFULLDD=pd.date_range(StartDay, end=StopDay, freq='d')\n",
    "rgdTimeFULLMM=pd.date_range(StartDay, end=StopDay, freq='m')\n",
    "Years = np.unique(rgdTimeFULL.year)\n",
    "\n",
    "SaveDir = '/glade/campaign/mmm/c3we/prein/Papers/2021_Hist-Ext-PR-Changes/data/'"
   ]
  },
  {
   "cell_type": "markdown",
   "metadata": {},
   "source": [
    "### Read STAGE-IV coordinates"
   ]
  },
  {
   "cell_type": "code",
   "execution_count": 5,
   "metadata": {},
   "outputs": [],
   "source": [
    "ncid=Dataset('/glade/campaign/mmm/c3we/prein/observations/STAGE_II_and_IV/data/LEVEL_2-4_hourly_precipitation_200202.nc', mode='r') # open the netcdf\n",
    "Lon4=np.squeeze(ncid.variables['lon'][:])\n",
    "Lat4=np.squeeze(ncid.variables['lat'][:])\n",
    "ncid.close()\n"
   ]
  },
  {
   "cell_type": "markdown",
   "metadata": {},
   "source": [
    "### Read in COOP locations"
   ]
  },
  {
   "cell_type": "code",
   "execution_count": 6,
   "metadata": {},
   "outputs": [],
   "source": [
    "# This data comes from - papers/2021_Hist-Ext-PR-Changes/programs/COOP_Station_preprocessor/COOP_Station_preprocessor.ipynb\n",
    "\n",
    "COOPsave = '/glade/campaign/mmm/c3we/prein/Papers/2021_Hist-Ext-PR-Changes/data/CCOP_stations_1979-2020.npz'\n",
    "DATA = np.load(COOPsave, allow_pickle=True)\n",
    "LonSTCO=DATA['LonSTCO']\n",
    "LatSTCO=DATA['LatSTCO']\n",
    "AltSTCO=DATA['AltSTCO']\n",
    "RatioMissing=DATA['RatioMissing']"
   ]
  },
  {
   "cell_type": "markdown",
   "metadata": {},
   "source": [
    "### Get the four closest grid cells and their distances to each station"
   ]
  },
  {
   "cell_type": "code",
   "execution_count": 7,
   "metadata": {},
   "outputs": [
    {
     "name": "stderr",
     "output_type": "stream",
     "text": [
      "100%|██████████| 1983/1983 [06:45<00:00,  4.89it/s]\n"
     ]
    }
   ],
   "source": [
    "Lat1D = np.array(np.reshape(Lat4, Lat4.shape[0]*Lat4.shape[1]))\n",
    "Lon1D = np.array(np.reshape(Lon4, Lon4.shape[0]*Lon4.shape[1]))\n",
    "\n",
    "N_closest = 4\n",
    "\n",
    "Distance = np.zeros((len(LonSTCO),N_closest)); Distance[:] = np.nan\n",
    "GC_ID_closest = np.zeros((len(LonSTCO),2,N_closest)); GC_ID_closest[:] = np.nan\n",
    "for st in tqdm(range(len(LonSTCO))):\n",
    "    DIST = harvesine(Lon1D, Lat1D,LonSTCO[st], LatSTCO[st])\n",
    "    Closest4 = np.argsort(DIST)[:N_closest]\n",
    "    if np.min(DIST) < 4:\n",
    "        Distance[st,:] = DIST[Closest4]\n",
    "        for ii in range(N_closest):\n",
    "            GC_ID_closest[st,:,ii] = np.unravel_index(Closest4[ii].astype(int), (Lat4.shape[0],Lat4.shape[1]))"
   ]
  },
  {
   "cell_type": "markdown",
   "metadata": {},
   "source": [
    "### Read in Stage-IV precipitation and interpolate to station locations using inverse discance averaging"
   ]
  },
  {
   "cell_type": "code",
   "execution_count": 7,
   "metadata": {},
   "outputs": [
    {
     "name": "stderr",
     "output_type": "stream",
     "text": [
      " 83%|████████▎ | 408/492 [04:13<00:52,  1.61it/s]\n"
     ]
    },
    {
     "ename": "FileNotFoundError",
     "evalue": "[Errno 2] No such file or directory: b'/glade/campaign/mmm/c3we/prein/CONUS404/data/MonthlyData/PREC_ACC_NC_201310_CONUS404.nc'",
     "output_type": "error",
     "traceback": [
      "\u001b[0;31m---------------------------------------------------------------------------\u001b[0m",
      "\u001b[0;31mFileNotFoundError\u001b[0m                         Traceback (most recent call last)",
      "\u001b[0;32m<ipython-input-7-1cf825e16ec4>\u001b[0m in \u001b[0;36m<module>\u001b[0;34m\u001b[0m\n\u001b[1;32m     10\u001b[0m \u001b[0;34m\u001b[0m\u001b[0m\n\u001b[1;32m     11\u001b[0m         \u001b[0mObservedData\u001b[0m\u001b[0;34m=\u001b[0m\u001b[0;34m'/glade/campaign/mmm/c3we/prein/CONUS404/data/MonthlyData/PREC_ACC_NC_'\u001b[0m\u001b[0;34m+\u001b[0m\u001b[0msTime\u001b[0m\u001b[0;34m+\u001b[0m\u001b[0;34m'_CONUS404.nc'\u001b[0m\u001b[0;34m\u001b[0m\u001b[0;34m\u001b[0m\u001b[0m\n\u001b[0;32m---> 12\u001b[0;31m         \u001b[0mncid\u001b[0m\u001b[0;34m=\u001b[0m\u001b[0mDataset\u001b[0m\u001b[0;34m(\u001b[0m\u001b[0mObservedData\u001b[0m\u001b[0;34m,\u001b[0m \u001b[0mmode\u001b[0m\u001b[0;34m=\u001b[0m\u001b[0;34m'r'\u001b[0m\u001b[0;34m)\u001b[0m\u001b[0;34m\u001b[0m\u001b[0;34m\u001b[0m\u001b[0m\n\u001b[0m\u001b[1;32m     13\u001b[0m         \u001b[0mDATA\u001b[0m \u001b[0;34m=\u001b[0m \u001b[0mnp\u001b[0m\u001b[0;34m.\u001b[0m\u001b[0msqueeze\u001b[0m\u001b[0;34m(\u001b[0m\u001b[0mncid\u001b[0m\u001b[0;34m.\u001b[0m\u001b[0mvariables\u001b[0m\u001b[0;34m[\u001b[0m\u001b[0;34m'PREC_ACC_NC'\u001b[0m\u001b[0;34m]\u001b[0m\u001b[0;34m[\u001b[0m\u001b[0;34m:\u001b[0m\u001b[0;34m,\u001b[0m\u001b[0;34m:\u001b[0m\u001b[0;34m,\u001b[0m\u001b[0;34m:\u001b[0m\u001b[0;34m]\u001b[0m\u001b[0;34m)\u001b[0m\u001b[0;34m\u001b[0m\u001b[0;34m\u001b[0m\u001b[0m\n\u001b[1;32m     14\u001b[0m         \u001b[0mncid\u001b[0m\u001b[0;34m.\u001b[0m\u001b[0mclose\u001b[0m\u001b[0;34m(\u001b[0m\u001b[0;34m)\u001b[0m\u001b[0;34m\u001b[0m\u001b[0;34m\u001b[0m\u001b[0m\n",
      "\u001b[0;32mnetCDF4/_netCDF4.pyx\u001b[0m in \u001b[0;36mnetCDF4._netCDF4.Dataset.__init__\u001b[0;34m()\u001b[0m\n",
      "\u001b[0;32mnetCDF4/_netCDF4.pyx\u001b[0m in \u001b[0;36mnetCDF4._netCDF4._ensure_nc_success\u001b[0;34m()\u001b[0m\n",
      "\u001b[0;31mFileNotFoundError\u001b[0m: [Errno 2] No such file or directory: b'/glade/campaign/mmm/c3we/prein/CONUS404/data/MonthlyData/PREC_ACC_NC_201310_CONUS404.nc'"
     ]
    }
   ],
   "source": [
    "# WRF_stationPR = np.zeros((len(rgdTimeFULL),len(LonSTCO))); WRF_stationPR[:] = np.nan\n",
    "\n",
    "\n",
    "# # Read data month by month and save each month to speed up the processing\n",
    "# for mm in tqdm(range(0, len(rgdTimeFULLMM),1)):\n",
    "#     iTIME = (rgdTimeFULLMM[mm].month == rgdTimeFULL.month) & (rgdTimeFULLMM[mm].year == rgdTimeFULL.year)\n",
    "#     sTime = str(rgdTimeFULLMM[mm].year)+str(rgdTimeFULLMM[mm].month).zfill(2)\n",
    "#     TMP_file = '/glade/campaign/mmm/c3we/prein/Papers/2021_Hist-Ext-PR-Changes/data/WRF/WRF-PR-at-COOP_'+sTime+'.npz'\n",
    "#     if os.path.exists(TMP_file) == False:\n",
    "\n",
    "#         ObservedData='/glade/campaign/mmm/c3we/prein/CONUS404/data/MonthlyData/PREC_ACC_NC_'+sTime+'_CONUS404.nc'\n",
    "#         ncid=Dataset(ObservedData, mode='r')\n",
    "#         DATA = np.squeeze(ncid.variables['PREC_ACC_NC'][:,:,:])\n",
    "#         ncid.close()\n",
    "# #         DATA = np.reshape(DATA, (DATA.shape[0],DATA.shape[1]*DATA.shape[2]))\n",
    "#         for st in range(len(LonSTCO)):\n",
    "#             if np.min(Distance[st,:]) < 4:\n",
    "#                 PRact = DATA[:,GC_ID_closest[st,0,:].astype('int'),GC_ID_closest[st,1,:].astype('int')]\n",
    "#                 DistanceAct = Distance[st,:]**-1\n",
    "#                 WRF_stationPR[iTIME,st] = np.sum(PRact*DistanceAct[None,:], axis=1)/np.sum(DistanceAct)\n",
    "#         np.savez(TMP_file,\n",
    "#                  time=rgdTimeFULL[iTIME],\n",
    "#                  WRF_stationPR=WRF_stationPR[iTIME,:],\n",
    "#                  LonSTCO=LonSTCO,\n",
    "#                  LatSTCO=LatSTCO)\n",
    "#     else:\n",
    "#         DATA = np.load(TMP_file)\n",
    "#         WRF_stationPR[iTIME,:]=DATA['WRF_stationPR']\n",
    "        "
   ]
  },
  {
   "cell_type": "markdown",
   "metadata": {},
   "source": [
    "### USE THE CLOSEST GRIDCELL FOR STATION EVALUATION "
   ]
  },
  {
   "cell_type": "code",
   "execution_count": 8,
   "metadata": {},
   "outputs": [
    {
     "name": "stderr",
     "output_type": "stream",
     "text": [
      "100%|██████████| 207/207 [1:05:59<00:00, 19.13s/it]\n"
     ]
    }
   ],
   "source": [
    "stage_IV_stationPR = np.zeros((len(rgdTimeFULL),len(LonSTCO))); stage_IV_stationPR[:] = np.nan\n",
    "\n",
    "\n",
    "# Read data month by month and save each month to speed up the processing\n",
    "for mm in tqdm(range(0, len(rgdTimeFULLMM),1)):\n",
    "    iTIME = (rgdTimeFULLMM[mm].month == rgdTimeFULL.month) & (rgdTimeFULLMM[mm].year == rgdTimeFULL.year)\n",
    "    sTime = str(rgdTimeFULLMM[mm].year)+str(rgdTimeFULLMM[mm].month).zfill(2)\n",
    "    TMP_file = '/glade/campaign/mmm/c3we/prein/Papers/2021_Hist-Ext-PR-Changes/data/stage-IV/stage-IV-PR-at-COOP_'+sTime+'_closest-GC.npz'\n",
    "    if os.path.exists(TMP_file) == False:\n",
    "\n",
    "        ObservedData='/glade/campaign/mmm/c3we/prein/observations/STAGE_II_and_IV/data/LEVEL_2-4_hourly_precipitation_'+sTime+'.nc'\n",
    "        ncid=Dataset(ObservedData, mode='r')\n",
    "        DATA = np.squeeze(ncid.variables['Precipitation'][:,:,:])\n",
    "        ncid.close()\n",
    "#         DATA = np.reshape(DATA, (DATA.shape[0],DATA.shape[1]*DATA.shape[2]))\n",
    "#         for st in range(len(LonSTCO)):\n",
    "#             if np.min(Distance[st,:]) < 4:\n",
    "        NAN = np.isnan(GC_ID_closest[:,0,0])\n",
    "        Indices = GC_ID_closest[:,:,0].astype('int'); Indices[NAN] = 0\n",
    "        \n",
    "        stage_IV_stationPR[iTIME,:] = DATA[:,Indices[:,0],Indices[:,1]]\n",
    "        PR = stage_IV_stationPR[iTIME,:]; PR[:,NAN] = np.nan\n",
    "        np.savez(TMP_file,\n",
    "                 time=rgdTimeFULL[iTIME],\n",
    "                 stage_IV_stationPR=PR,\n",
    "                 LonSTCO=LonSTCO,\n",
    "                 LatSTCO=LatSTCO)\n",
    "    else:\n",
    "        DATA = np.load(TMP_file)\n",
    "        stage_IV_stationPR[iTIME,:]=DATA['stage_IV_stationPR']\n",
    "        "
   ]
  },
  {
   "cell_type": "code",
   "execution_count": 10,
   "metadata": {
    "collapsed": true,
    "jupyter": {
     "outputs_hidden": true
    }
   },
   "outputs": [
    {
     "ename": "IndexError",
     "evalue": "index -9223372036854775808 is out of bounds for axis 1 with size 1015",
     "output_type": "error",
     "traceback": [
      "\u001b[0;31m---------------------------------------------------------------------------\u001b[0m",
      "\u001b[0;31mIndexError\u001b[0m                                Traceback (most recent call last)",
      "\u001b[0;32m<ipython-input-10-37ff9a33a78b>\u001b[0m in \u001b[0;36m<module>\u001b[0;34m\u001b[0m\n\u001b[0;32m----> 1\u001b[0;31m \u001b[0mDATA\u001b[0m\u001b[0;34m[\u001b[0m\u001b[0;34m:\u001b[0m\u001b[0;34m,\u001b[0m\u001b[0mGC_ID_closest\u001b[0m\u001b[0;34m[\u001b[0m\u001b[0;34m:\u001b[0m\u001b[0;34m,\u001b[0m\u001b[0;36m0\u001b[0m\u001b[0;34m,\u001b[0m\u001b[0;36m0\u001b[0m\u001b[0;34m]\u001b[0m\u001b[0;34m.\u001b[0m\u001b[0mastype\u001b[0m\u001b[0;34m(\u001b[0m\u001b[0;34m'int'\u001b[0m\u001b[0;34m)\u001b[0m\u001b[0;34m,\u001b[0m\u001b[0mGC_ID_closest\u001b[0m\u001b[0;34m[\u001b[0m\u001b[0;34m:\u001b[0m\u001b[0;34m,\u001b[0m\u001b[0;36m1\u001b[0m\u001b[0;34m,\u001b[0m\u001b[0;36m0\u001b[0m\u001b[0;34m]\u001b[0m\u001b[0;34m.\u001b[0m\u001b[0mastype\u001b[0m\u001b[0;34m(\u001b[0m\u001b[0;34m'int'\u001b[0m\u001b[0;34m)\u001b[0m\u001b[0;34m]\u001b[0m\u001b[0;34m.\u001b[0m\u001b[0mshape\u001b[0m\u001b[0;34m\u001b[0m\u001b[0;34m\u001b[0m\u001b[0m\n\u001b[0m",
      "\u001b[0;32m/glade/u/apps/dav/opt/python/3.7.9/gnu/9.1.0/pkg-library/20201220/lib/python3.7/site-packages/numpy/ma/core.py\u001b[0m in \u001b[0;36m__getitem__\u001b[0;34m(self, indx)\u001b[0m\n\u001b[1;32m   3186\u001b[0m         \u001b[0;31m# mask of being reshaped if it hasn't been set up properly yet\u001b[0m\u001b[0;34m\u001b[0m\u001b[0;34m\u001b[0m\u001b[0;34m\u001b[0m\u001b[0m\n\u001b[1;32m   3187\u001b[0m         \u001b[0;31m# So it's easier to stick to the current version\u001b[0m\u001b[0;34m\u001b[0m\u001b[0;34m\u001b[0m\u001b[0;34m\u001b[0m\u001b[0m\n\u001b[0;32m-> 3188\u001b[0;31m         \u001b[0mdout\u001b[0m \u001b[0;34m=\u001b[0m \u001b[0mself\u001b[0m\u001b[0;34m.\u001b[0m\u001b[0mdata\u001b[0m\u001b[0;34m[\u001b[0m\u001b[0mindx\u001b[0m\u001b[0;34m]\u001b[0m\u001b[0;34m\u001b[0m\u001b[0;34m\u001b[0m\u001b[0m\n\u001b[0m\u001b[1;32m   3189\u001b[0m         \u001b[0m_mask\u001b[0m \u001b[0;34m=\u001b[0m \u001b[0mself\u001b[0m\u001b[0;34m.\u001b[0m\u001b[0m_mask\u001b[0m\u001b[0;34m\u001b[0m\u001b[0;34m\u001b[0m\u001b[0m\n\u001b[1;32m   3190\u001b[0m \u001b[0;34m\u001b[0m\u001b[0m\n",
      "\u001b[0;31mIndexError\u001b[0m: index -9223372036854775808 is out of bounds for axis 1 with size 1015"
     ]
    }
   ],
   "source": [
    "DATA[:,GC_ID_closest[:,0,0].astype('int'),GC_ID_closest[:,1,0].astype('int')].shape"
   ]
  },
  {
   "cell_type": "code",
   "execution_count": 11,
   "metadata": {},
   "outputs": [
    {
     "data": {
      "text/plain": [
       "(720, 1015, 1367)"
      ]
     },
     "execution_count": 11,
     "metadata": {},
     "output_type": "execute_result"
    }
   ],
   "source": [
    "DATA.shape"
   ]
  },
  {
   "cell_type": "code",
   "execution_count": 13,
   "metadata": {},
   "outputs": [
    {
     "data": {
      "text/plain": [
       "array([321., 389., 333., ...,  nan,  nan,  nan])"
      ]
     },
     "execution_count": 13,
     "metadata": {},
     "output_type": "execute_result"
    }
   ],
   "source": [
    "GC_ID_closest[:,0,0]"
   ]
  },
  {
   "cell_type": "code",
   "execution_count": null,
   "metadata": {},
   "outputs": [],
   "source": []
  }
 ],
 "metadata": {
  "kernelspec": {
   "display_name": "Python 3",
   "language": "python",
   "name": "python3"
  },
  "language_info": {
   "codemirror_mode": {
    "name": "ipython",
    "version": 3
   },
   "file_extension": ".py",
   "mimetype": "text/x-python",
   "name": "python",
   "nbconvert_exporter": "python",
   "pygments_lexer": "ipython3",
   "version": "3.7.9"
  }
 },
 "nbformat": 4,
 "nbformat_minor": 4
}
