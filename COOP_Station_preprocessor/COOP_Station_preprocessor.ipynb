{
 "cells": [
  {
   "cell_type": "code",
   "execution_count": 1,
   "metadata": {},
   "outputs": [],
   "source": [
    "#!/usr/bin/env python"
   ]
  },
  {
   "cell_type": "markdown",
   "metadata": {},
   "source": [
    "# COOP_Station_preprocessor.ipynb"
   ]
  },
  {
   "cell_type": "code",
   "execution_count": 2,
   "metadata": {},
   "outputs": [
    {
     "data": {
      "text/plain": [
       "' \\n   COOP_Station_preprocessor.ipynb\\n\\n   Read COOP data and save hourly precipitation for all stations \\n   with minimum completness for the evaluation of climate change trends\\n   and CONUS404 output\\n   \\n'"
      ]
     },
     "execution_count": 2,
     "metadata": {},
     "output_type": "execute_result"
    }
   ],
   "source": [
    "''' \n",
    "   COOP_Station_preprocessor.ipynb\n",
    "\n",
    "   Read COOP data and save hourly precipitation for all stations \n",
    "   with minimum completness for the evaluation of climate change trends\n",
    "   and CONUS404 output\n",
    "   \n",
    "'''"
   ]
  },
  {
   "cell_type": "code",
   "execution_count": 30,
   "metadata": {},
   "outputs": [],
   "source": [
    "import numpy as np\n",
    "from scipy import stats\n",
    "import matplotlib.pyplot as plt\n",
    "from netCDF4 import Dataset\n",
    "import glob\n",
    "import os\n",
    "from pdb import set_trace as stop\n",
    "from scipy.ndimage.filters import gaussian_filter\n",
    "from scipy.ndimage import median_filter\n",
    "from scipy.ndimage import label\n",
    "from matplotlib import cm\n",
    "from scipy import ndimage\n",
    "import random\n",
    "import scipy\n",
    "import pickle\n",
    "import datetime\n",
    "import pandas as pd\n",
    "import subprocess\n",
    "from calendar import monthrange\n",
    "import pandas as pd\n",
    "import datetime\n",
    "import sys \n",
    "import shapefile as shp\n",
    "import matplotlib.path as mplPath\n",
    "from scipy.stats import norm\n",
    "import matplotlib.gridspec as gridspec\n",
    "# from mpl_toolkits.basemap import Basemap, cm\n",
    "from matplotlib.colors import LinearSegmentedColormap\n",
    "import matplotlib.gridspec as gridspec\n",
    "from pylab import *\n",
    "import string\n",
    "from matplotlib.patches import Polygon\n",
    "from matplotlib.collections import PatchCollection\n",
    "import shapefile\n",
    "from calendar import monthrange\n",
    "from tqdm import tqdm\n",
    "\n",
    "\n",
    "# # fix pickle load issue\n",
    "# np_load_old = np.load\n",
    "# # modify the default parameters of np.load\n",
    "# np.load = lambda *a,**k: np_load_old(*a, allow_pickle=True, **k)\n",
    "\n",
    "\n",
    "def read_shapefile(sf):\n",
    "    \"\"\"\n",
    "    Read a shapefile into a Pandas dataframe with a 'coords' \n",
    "    column holding the geometry information. This uses the pyshp\n",
    "    package\n",
    "    \"\"\"\n",
    "    fields = [x[0] for x in sf.fields][1:]\n",
    "    records = sf.records()\n",
    "    shps = [s.points for s in sf.shapes()]\n",
    "    df = pd.DataFrame(columns=fields, data=records)\n",
    "    df = df.assign(coords=shps)\n",
    "    return df\n",
    "\n",
    "#### speed up interpolation\n",
    "import scipy.interpolate as spint\n",
    "import scipy.spatial.qhull as qhull\n",
    "import numpy as np\n",
    "\n",
    "def interp_weights(xy, uv,d=2):\n",
    "    tri = qhull.Delaunay(xy)\n",
    "    simplex = tri.find_simplex(uv)\n",
    "    vertices = np.take(tri.simplices, simplex, axis=0)\n",
    "    temp = np.take(tri.transform, simplex, axis=0)\n",
    "    delta = uv - temp[:, d]\n",
    "    bary = np.einsum('njk,nk->nj', temp[:, :d, :], delta)\n",
    "    return vertices, np.hstack((bary, 1 - bary.sum(axis=1, keepdims=True)))\n",
    "\n",
    "def interpolate(values, vtx, wts):\n",
    "    return np.einsum('nj,nj->n', np.take(values, vtx), wts)"
   ]
  },
  {
   "cell_type": "markdown",
   "metadata": {},
   "source": [
    "###  USER MODIFY SECTION"
   ]
  },
  {
   "cell_type": "code",
   "execution_count": 4,
   "metadata": {},
   "outputs": [],
   "source": [
    "StartDay = datetime.datetime(1979, 10, 1,0)\n",
    "StopDay = datetime.datetime(2020, 9, 30,23)\n",
    "rgdTimeFULL=pd.date_range(StartDay, end=StopDay, freq='h')\n",
    "rgdTimeFULLDD=pd.date_range(StartDay, end=StopDay, freq='d')\n",
    "rgdTimeFULLMM=pd.date_range(StartDay, end=StopDay, freq='m')\n",
    "Years = np.unique(rgdTimeFULL.year)\n",
    "\n",
    "SaveDir = '/glade/campaign/mmm/c3we/prein/Papers/2021_Hist-Ext-PR-Changes/data/'"
   ]
  },
  {
   "cell_type": "markdown",
   "metadata": {},
   "source": [
    "### Read in the coordiantes and create basin mask"
   ]
  },
  {
   "cell_type": "markdown",
   "metadata": {},
   "source": [
    "#### Read Hourly_PR_Stations-DSI-3240_v2"
   ]
  },
  {
   "cell_type": "code",
   "execution_count": 32,
   "metadata": {},
   "outputs": [
    {
     "name": "stdout",
     "output_type": "stream",
     "text": [
      "    Process and save COOP data\n"
     ]
    },
    {
     "name": "stderr",
     "output_type": "stream",
     "text": [
      "100%|██████████| 1983/1983 [2:18:48<00:00,  4.20s/it]  \n",
      "/glade/u/apps/dav/opt/python/3.7.9/gnu/9.1.0/pkg-library/20201220/lib/python3.7/site-packages/ipykernel_launcher.py:37: RuntimeWarning: invalid value encountered in less\n",
      "/glade/u/apps/dav/opt/python/3.7.9/gnu/9.1.0/pkg-library/20201220/lib/python3.7/site-packages/ipykernel_launcher.py:38: RuntimeWarning: invalid value encountered in greater\n"
     ]
    },
    {
     "ename": "NameError",
     "evalue": "name 'LonST' is not defined",
     "output_type": "error",
     "traceback": [
      "\u001b[0;31m---------------------------------------------------------------------------\u001b[0m",
      "\u001b[0;31mNameError\u001b[0m                                 Traceback (most recent call last)",
      "\u001b[0;32m<ipython-input-32-a2e808966461>\u001b[0m in \u001b[0;36m<module>\u001b[0;34m\u001b[0m\n\u001b[1;32m     41\u001b[0m             \u001b[0mCO_DATA\u001b[0m\u001b[0;34m=\u001b[0m\u001b[0mrgrCOPR\u001b[0m\u001b[0;34m,\u001b[0m\u001b[0;34m\u001b[0m\u001b[0;34m\u001b[0m\u001b[0m\n\u001b[1;32m     42\u001b[0m             \u001b[0mStnIDCO\u001b[0m\u001b[0;34m=\u001b[0m\u001b[0mStnID\u001b[0m\u001b[0;34m,\u001b[0m\u001b[0;34m\u001b[0m\u001b[0;34m\u001b[0m\u001b[0m\n\u001b[0;32m---> 43\u001b[0;31m             \u001b[0mLonSTCO\u001b[0m\u001b[0;34m=\u001b[0m\u001b[0mLonST\u001b[0m\u001b[0;34m,\u001b[0m\u001b[0;34m\u001b[0m\u001b[0;34m\u001b[0m\u001b[0m\n\u001b[0m\u001b[1;32m     44\u001b[0m             \u001b[0mLatSTCO\u001b[0m\u001b[0;34m=\u001b[0m\u001b[0mLatST\u001b[0m\u001b[0;34m,\u001b[0m\u001b[0;34m\u001b[0m\u001b[0;34m\u001b[0m\u001b[0m\n\u001b[1;32m     45\u001b[0m             \u001b[0mAltSTCO\u001b[0m\u001b[0;34m=\u001b[0m\u001b[0mAltST\u001b[0m\u001b[0;34m,\u001b[0m\u001b[0;34m\u001b[0m\u001b[0;34m\u001b[0m\u001b[0m\n",
      "\u001b[0;31mNameError\u001b[0m: name 'LonST' is not defined"
     ]
    }
   ],
   "source": [
    "CO_SAVE = SaveDir+'CCOP_stations_1979-2020.npz'\n",
    "\n",
    "if os.path.exists(CO_SAVE) == False:\n",
    "    print('    Process and save COOP data')\n",
    "\n",
    "    COdir = '/glade/campaign/mmm/c3we/prein/observations/Hourly_PR_Stations-DSI-3240_v2/data/'\n",
    "    sStationFile = '/glade/campaign/mmm/c3we/prein/observations/Hourly_PR_Stations-DSI-3240_v2/original_data/station-inventory/HPD_v02r02_stationinv_c20201104.csv'\n",
    "    TimeHHCO=TimeHHCO=pd.date_range(datetime.datetime(1948, 1, 1,0), end=datetime.datetime(2020, 12, 31,23), freq='h')\n",
    "    \n",
    "    # Core time for evaluation\n",
    "    TimeSel = np.isin(TimeHHCO,rgdTimeFULL)\n",
    "\n",
    "\n",
    "    # read in station location and altitude\n",
    "    df = pd.read_csv (sStationFile)\n",
    "    StnID = np.array(df['StnID'])\n",
    "    LatCO = np.array(df['Lat'])\n",
    "    LonCO = np.array(df['Lon'])\n",
    "    AltCO = np.array(df['Elev'])\n",
    "    rgrGridCells=[(LonCO.ravel()[ii],LatCO.ravel()[ii]) for ii in range(len(LonCO.ravel()))]\n",
    "\n",
    "    # -----------------------\n",
    "    # read precipitation data\n",
    "    rgrCOPR = np.zeros((len(rgdTimeFULL), len(LatCO))); rgrCOPR[:] = np.nan\n",
    "    RatioMissing = np.zeros((4,len(LatCO))); RatioMissing[:] = np.nan\n",
    "#     HHStart = np.where(rgdTimeFULL[0] == TimeHHCO)[0][0]\n",
    "#     HHStop = np.where(rgdTimeFULL[-1] == TimeHHCO)[0][0]\n",
    "    for st in tqdm(range(len(LatCO))):\n",
    "        FILEact = COdir+StnID[st]+'.nc'\n",
    "        ncid=Dataset(FILEact, mode='r')\n",
    "        PRact = np.squeeze(ncid.variables['PR'][TimeSel]) #[HHStart:HHStop+1])\n",
    "        RatioMissing[:,st] = np.array([np.sum(~np.isnan(PRact[(rgdTimeFULL.year >= 1980+ii*10) & (rgdTimeFULL.year <= 1989+ii*10)]))/np.sum((rgdTimeFULL.year >= 1980+ii*10) & (rgdTimeFULL.year <= 1989+ii*10)) for ii in range(4)])\n",
    "        rgrCOPR[:,st]= PRact\n",
    "        ncid.close()\n",
    "#         print('    read '+FILEact)\n",
    "\n",
    "    rgrCOPR[rgrCOPR < 0] = np.nan\n",
    "    rgrCOPR[rgrCOPR > 500] = np.nan\n",
    "    \n",
    "    np.savez(CO_SAVE,\n",
    "            CO_DATA=rgrCOPR,\n",
    "            StnIDCO=StnID,\n",
    "            LonSTCO=LonCO,\n",
    "            LatSTCO=LatCO,\n",
    "            AltSTCO=AltCO,\n",
    "            TimeHH=rgdTimeFULL,\n",
    "            RatioMissing=RatioMissing)\n",
    "else:\n",
    "    print('    Read preprocessed ASOS data')\n",
    "    DATA = np.load(CO_SAVE, allow_pickle=True)\n",
    "    CO_DATA=DATA['CO_DATA']\n",
    "    StnIDCO=DATA['StnIDCO']\n",
    "    LonSTCO=DATA['LonSTCO']\n",
    "    LatSTCO=DATA['LatSTCO']\n",
    "    AltSTCO=DATA['AltSTCO']\n",
    "    TimeHHCO=pd.to_datetime(DATA['TimeHH'])\n",
    "    RatioMissing=DATA['RatioMissing']\n"
   ]
  },
  {
   "cell_type": "code",
   "execution_count": 1,
   "metadata": {},
   "outputs": [
    {
     "ename": "NameError",
     "evalue": "name 'CO_SAVE' is not defined",
     "output_type": "error",
     "traceback": [
      "\u001b[0;31m---------------------------------------------------------------------------\u001b[0m",
      "\u001b[0;31mNameError\u001b[0m                                 Traceback (most recent call last)",
      "\u001b[0;32m<ipython-input-1-c52018d21a34>\u001b[0m in \u001b[0;36m<module>\u001b[0;34m\u001b[0m\n\u001b[0;32m----> 1\u001b[0;31m \u001b[0mCO_SAVE\u001b[0m\u001b[0;34m\u001b[0m\u001b[0;34m\u001b[0m\u001b[0m\n\u001b[0m",
      "\u001b[0;31mNameError\u001b[0m: name 'CO_SAVE' is not defined"
     ]
    }
   ],
   "source": [
    "CO_SAVE"
   ]
  },
  {
   "cell_type": "code",
   "execution_count": null,
   "metadata": {},
   "outputs": [],
   "source": []
  },
  {
   "cell_type": "code",
   "execution_count": null,
   "metadata": {},
   "outputs": [],
   "source": []
  }
 ],
 "metadata": {
  "kernelspec": {
   "display_name": "Python 3",
   "language": "python",
   "name": "python3"
  },
  "language_info": {
   "codemirror_mode": {
    "name": "ipython",
    "version": 3
   },
   "file_extension": ".py",
   "mimetype": "text/x-python",
   "name": "python",
   "nbconvert_exporter": "python",
   "pygments_lexer": "ipython3",
   "version": "3.7.9"
  }
 },
 "nbformat": 4,
 "nbformat_minor": 4
}
