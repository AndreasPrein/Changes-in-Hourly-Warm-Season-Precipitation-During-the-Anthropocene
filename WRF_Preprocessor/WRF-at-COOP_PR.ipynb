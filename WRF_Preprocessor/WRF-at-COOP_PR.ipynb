{
 "cells": [
  {
   "cell_type": "code",
   "execution_count": 1,
   "metadata": {},
   "outputs": [],
   "source": [
    "#!/usr/bin/env python"
   ]
  },
  {
   "cell_type": "markdown",
   "metadata": {},
   "source": [
    "# WRF-at-COOP_PR.ipynb"
   ]
  },
  {
   "cell_type": "code",
   "execution_count": 2,
   "metadata": {},
   "outputs": [
    {
     "data": {
      "text/plain": [
       "' \\n   WRF-at-COOP_PR.ipynb\\n\\n   Read in WRF houlry precipitation at the location of COOP stations\\n   by using inverse distance averaging of the four closest gridcells\\n   \\n   This program needs data from:\\n   papers/2021_Hist-Ext-PR-Changes/programs/COOP_Station_preprocessor/COOP_Station_preprocessor.ipynb\\n   \\n'"
      ]
     },
     "execution_count": 2,
     "metadata": {},
     "output_type": "execute_result"
    }
   ],
   "source": [
    "''' \n",
    "   WRF-at-COOP_PR.ipynb\n",
    "\n",
    "   Read in WRF houlry precipitation at the location of COOP stations\n",
    "   by using inverse distance averaging of the four closest gridcells\n",
    "   \n",
    "   This program needs data from:\n",
    "   papers/2021_Hist-Ext-PR-Changes/programs/COOP_Station_preprocessor/COOP_Station_preprocessor.ipynb\n",
    "   \n",
    "'''"
   ]
  },
  {
   "cell_type": "code",
   "execution_count": 3,
   "metadata": {},
   "outputs": [],
   "source": [
    "import numpy as np\n",
    "from scipy import stats\n",
    "import matplotlib.pyplot as plt\n",
    "from netCDF4 import Dataset\n",
    "import glob\n",
    "import os\n",
    "from pdb import set_trace as stop\n",
    "from scipy.ndimage.filters import gaussian_filter\n",
    "from scipy.ndimage import median_filter\n",
    "from scipy.ndimage import label\n",
    "from matplotlib import cm\n",
    "from scipy import ndimage\n",
    "import random\n",
    "import scipy\n",
    "import pickle\n",
    "import datetime\n",
    "import pandas as pd\n",
    "import subprocess\n",
    "from calendar import monthrange\n",
    "import pandas as pd\n",
    "import datetime\n",
    "import sys \n",
    "import shapefile as shp\n",
    "import matplotlib.path as mplPath\n",
    "from scipy.stats import norm\n",
    "import matplotlib.gridspec as gridspec\n",
    "# from mpl_toolkits.basemap import Basemap, cm\n",
    "from matplotlib.colors import LinearSegmentedColormap\n",
    "import matplotlib.gridspec as gridspec\n",
    "from pylab import *\n",
    "import string\n",
    "from matplotlib.patches import Polygon\n",
    "from matplotlib.collections import PatchCollection\n",
    "import shapefile\n",
    "from calendar import monthrange\n",
    "from tqdm import tqdm\n",
    "\n",
    "\n",
    "# # fix pickle load issue\n",
    "# np_load_old = np.load\n",
    "# # modify the default parameters of np.load\n",
    "# np.load = lambda *a,**k: np_load_old(*a, allow_pickle=True, **k)\n",
    "\n",
    "\n",
    "\n",
    "# from: https://rafatieppo.github.io/post/2018_07_27_idw2pyr/\n",
    "# packages\n",
    "import math\n",
    "import numpy as np\n",
    "#------------------------------------------------------------\n",
    "# Distance calculation, degree to km (Haversine method)\n",
    "def harvesine(lon1, lat1, lon2, lat2):\n",
    "    rad = math.pi / 180  # degree to radian\n",
    "    R = 6378.1  # earth average radius at equador (km)\n",
    "    dlon = (lon2 - lon1) * rad\n",
    "    dlat = (lat2 - lat1) * rad\n",
    "\n",
    "    a = (np.sin(dlat / 2)) ** 2 + np.cos(lat1 * rad) * \\\n",
    "        np.cos(lat2 * rad) * (np.sin(dlon / 2)) ** 2\n",
    "    c = 2 * np.arctan2(np.sqrt(a), np.sqrt(1 - a))\n",
    "    d = R * c\n",
    "    return(d)\n",
    "\n",
    "# ------------------------------------------------------------\n",
    "# Prediction\n",
    "def idwr(x, y, z, xi, yi):\n",
    "    lstxyzi = []\n",
    "    for p in range(len(xi)):\n",
    "        lstdist = []\n",
    "        for s in range(len(x)):\n",
    "            d = (harvesine(x[s], y[s], xi[p], yi[p]))\n",
    "            lstdist.append(d)\n",
    "        sumsup = list((1 / np.power(lstdist, 2)))\n",
    "        suminf = np.sum(sumsup)\n",
    "        sumsup = np.sum(np.array(sumsup) * np.array(z))\n",
    "        u = sumsup / suminf\n",
    "        xyzi = [xi[p], yi[p], u]\n",
    "        lstxyzi.append(xyzi)\n",
    "    return(lstxyzi)"
   ]
  },
  {
   "cell_type": "markdown",
   "metadata": {},
   "source": [
    "###  USER MODIFY SECTION"
   ]
  },
  {
   "cell_type": "code",
   "execution_count": 4,
   "metadata": {},
   "outputs": [],
   "source": [
    "StartDay = datetime.datetime(1979, 10, 1,0)\n",
    "StopDay = datetime.datetime(2020, 9, 30,23)\n",
    "rgdTimeFULL=pd.date_range(StartDay, end=StopDay, freq='h')\n",
    "rgdTimeFULLDD=pd.date_range(StartDay, end=StopDay, freq='d')\n",
    "rgdTimeFULLMM=pd.date_range(StartDay, end=StopDay, freq='m')\n",
    "Years = np.unique(rgdTimeFULL.year)\n",
    "\n",
    "SaveDir = '/glade/campaign/mmm/c3we/prein/Papers/2021_Hist-Ext-PR-Changes/data/'"
   ]
  },
  {
   "cell_type": "markdown",
   "metadata": {},
   "source": [
    "### Read WRF coordinates"
   ]
  },
  {
   "cell_type": "code",
   "execution_count": 5,
   "metadata": {},
   "outputs": [],
   "source": [
    "sLon='XLONG_M'\n",
    "sLat='XLAT_M'\n",
    "sOro='HGT_M'\n",
    "sLSM='LANDMASK'\n",
    "GEO_EM_D1 = '/glade/u/home/prein/projects/2020_CONUS404/programs/plots/Domain/geo_em.d01.nc'\n",
    "ncid=Dataset(GEO_EM_D1, mode='r') # open the netcdf\n",
    "Lon4=np.squeeze(ncid.variables[sLon][:])\n",
    "Lat4=np.squeeze(ncid.variables[sLat][:])\n",
    "Height4=np.squeeze(ncid.variables[sOro][:])\n",
    "LSM4=np.squeeze(ncid.variables[sLSM][:])\n",
    "ncid.close()\n"
   ]
  },
  {
   "cell_type": "markdown",
   "metadata": {},
   "source": [
    "### Read in COOP locations"
   ]
  },
  {
   "cell_type": "code",
   "execution_count": 6,
   "metadata": {},
   "outputs": [],
   "source": [
    "# This data comes from - papers/2021_Hist-Ext-PR-Changes/programs/COOP_Station_preprocessor/COOP_Station_preprocessor.ipynb\n",
    "\n",
    "COOPsave = '/glade/campaign/mmm/c3we/prein/Papers/2021_Hist-Ext-PR-Changes/data/CCOP_stations_1979-2020.npz'\n",
    "DATA = np.load(COOPsave, allow_pickle=True)\n",
    "LonSTCO=DATA['LonSTCO']\n",
    "LatSTCO=DATA['LatSTCO']\n",
    "AltSTCO=DATA['AltSTCO']\n",
    "RatioMissing=DATA['RatioMissing']"
   ]
  },
  {
   "cell_type": "markdown",
   "metadata": {},
   "source": [
    "### Get the four closest grid cells and their distances to each station"
   ]
  },
  {
   "cell_type": "code",
   "execution_count": 7,
   "metadata": {},
   "outputs": [
    {
     "name": "stderr",
     "output_type": "stream",
     "text": [
      "100%|██████████| 1983/1983 [04:06<00:00,  8.04it/s]\n"
     ]
    }
   ],
   "source": [
    "Lat1D = np.array(np.reshape(Lat4, Lat4.shape[0]*Lat4.shape[1]))\n",
    "Lon1D = np.array(np.reshape(Lon4, Lon4.shape[0]*Lon4.shape[1]))\n",
    "\n",
    "N_closest = 4\n",
    "\n",
    "Distance = np.zeros((len(LonSTCO),N_closest)); Distance[:] = np.nan\n",
    "GC_ID_closest = np.zeros((len(LonSTCO),2,N_closest)); GC_ID_closest[:] = np.nan\n",
    "for st in tqdm(range(len(LonSTCO))):\n",
    "    DIST = harvesine(Lon1D, Lat1D,LonSTCO[st], LatSTCO[st])\n",
    "    Closest4 = np.argsort(DIST)[:N_closest]\n",
    "    if np.min(DIST) < 4:\n",
    "        Distance[st,:] = DIST[Closest4]\n",
    "        for ii in range(N_closest):\n",
    "            GC_ID_closest[st,:,ii] = np.unravel_index(Closest4[ii].astype(int), (Lat4.shape[0],Lat4.shape[1]))"
   ]
  },
  {
   "cell_type": "markdown",
   "metadata": {},
   "source": [
    "### Read in WRF CONUS404 precipitation and interpolate to station locations using inverse discance averaging"
   ]
  },
  {
   "cell_type": "code",
   "execution_count": 8,
   "metadata": {},
   "outputs": [
    {
     "name": "stderr",
     "output_type": "stream",
     "text": [
      "100%|██████████| 492/492 [1:38:06<00:00, 11.97s/it]\n"
     ]
    }
   ],
   "source": [
    "WRF_stationPR = np.zeros((len(rgdTimeFULL),len(LonSTCO))); WRF_stationPR[:] = np.nan\n",
    "\n",
    "\n",
    "# Read data month by month and save each month to speed up the processing\n",
    "for mm in tqdm(range(0, len(rgdTimeFULLMM),1)):\n",
    "    iTIME = (rgdTimeFULLMM[mm].month == rgdTimeFULL.month) & (rgdTimeFULLMM[mm].year == rgdTimeFULL.year)\n",
    "    sTime = str(rgdTimeFULLMM[mm].year)+str(rgdTimeFULLMM[mm].month).zfill(2)\n",
    "    TMP_file = '/glade/campaign/mmm/c3we/prein/Papers/2021_Hist-Ext-PR-Changes/data/WRF/WRF-PR-at-COOP_'+sTime+'.npz'\n",
    "    if os.path.exists(TMP_file) == False:\n",
    "\n",
    "        ObservedData='/glade/campaign/mmm/c3we/prein/CONUS404/data/MonthlyData/PREC_ACC_NC_'+sTime+'_CONUS404.nc'\n",
    "        ncid=Dataset(ObservedData, mode='r')\n",
    "        DATA = np.squeeze(ncid.variables['PREC_ACC_NC'][:,:,:])\n",
    "        ncid.close()\n",
    "#         DATA = np.reshape(DATA, (DATA.shape[0],DATA.shape[1]*DATA.shape[2]))\n",
    "        for st in range(len(LonSTCO)):\n",
    "            if np.min(Distance[st,:]) < 4:\n",
    "                PRact = DATA[:,GC_ID_closest[st,0,:].astype('int'),GC_ID_closest[st,1,:].astype('int')]\n",
    "                DistanceAct = Distance[st,:]**-1\n",
    "                WRF_stationPR[iTIME,st] = np.sum(PRact*DistanceAct[None,:], axis=1)/np.sum(DistanceAct)\n",
    "        np.savez(TMP_file,\n",
    "                 time=rgdTimeFULL[iTIME],\n",
    "                 WRF_stationPR=WRF_stationPR[iTIME,:],\n",
    "                 LonSTCO=LonSTCO,\n",
    "                 LatSTCO=LatSTCO)\n",
    "    else:\n",
    "        DATA = np.load(TMP_file)\n",
    "        WRF_stationPR[iTIME,:]=DATA['WRF_stationPR']\n",
    "        "
   ]
  },
  {
   "cell_type": "markdown",
   "metadata": {},
   "source": [
    "### USE THE CLOSEST GRIDCELL FOR STATION EVALUATION "
   ]
  },
  {
   "cell_type": "code",
   "execution_count": 9,
   "metadata": {},
   "outputs": [
    {
     "name": "stderr",
     "output_type": "stream",
     "text": [
      "100%|██████████| 492/492 [1:36:28<00:00, 11.76s/it]\n"
     ]
    }
   ],
   "source": [
    "WRF_stationPR = np.zeros((len(rgdTimeFULL),len(LonSTCO))); WRF_stationPR[:] = np.nan\n",
    "\n",
    "\n",
    "# Read data month by month and save each month to speed up the processing\n",
    "for mm in tqdm(range(0, len(rgdTimeFULLMM),1)):\n",
    "    iTIME = (rgdTimeFULLMM[mm].month == rgdTimeFULL.month) & (rgdTimeFULLMM[mm].year == rgdTimeFULL.year)\n",
    "    sTime = str(rgdTimeFULLMM[mm].year)+str(rgdTimeFULLMM[mm].month).zfill(2)\n",
    "    TMP_file = '/glade/campaign/mmm/c3we/prein/Papers/2021_Hist-Ext-PR-Changes/data/WRF/WRF-PR-at-COOP_'+sTime+'_closest-GC.npz'\n",
    "    if os.path.exists(TMP_file) == False:\n",
    "\n",
    "        ObservedData='/glade/campaign/mmm/c3we/prein/CONUS404/data/MonthlyData/PREC_ACC_NC_'+sTime+'_CONUS404.nc'\n",
    "        ncid=Dataset(ObservedData, mode='r')\n",
    "        DATA = np.squeeze(ncid.variables['PREC_ACC_NC'][:,:,:])\n",
    "        ncid.close()\n",
    "#         DATA = np.reshape(DATA, (DATA.shape[0],DATA.shape[1]*DATA.shape[2]))\n",
    "#         for st in range(len(LonSTCO)):\n",
    "#             if np.min(Distance[st,:]) < 4:\n",
    "        NAN = np.isnan(GC_ID_closest[:,0,0])\n",
    "        Indices = GC_ID_closest[:,:,0].astype('int'); Indices[NAN] = 0\n",
    "        \n",
    "        WRF_stationPR[iTIME,:] = DATA[:,Indices[:,0],Indices[:,1]]\n",
    "        PR = WRF_stationPR[iTIME,:]; PR[:,NAN] = np.nan\n",
    "        np.savez(TMP_file,\n",
    "                 time=rgdTimeFULL[iTIME],\n",
    "                 WRF_stationPR=PR,\n",
    "                 LonSTCO=LonSTCO,\n",
    "                 LatSTCO=LatSTCO)\n",
    "    else:\n",
    "        DATA = np.load(TMP_file)\n",
    "        WRF_stationPR[iTIME,:]=DATA['WRF_stationPR']\n",
    "        "
   ]
  },
  {
   "cell_type": "code",
   "execution_count": null,
   "metadata": {},
   "outputs": [],
   "source": []
  }
 ],
 "metadata": {
  "kernelspec": {
   "display_name": "Python 3",
   "language": "python",
   "name": "python3"
  },
  "language_info": {
   "codemirror_mode": {
    "name": "ipython",
    "version": 3
   },
   "file_extension": ".py",
   "mimetype": "text/x-python",
   "name": "python",
   "nbconvert_exporter": "python",
   "pygments_lexer": "ipython3",
   "version": "3.7.9"
  }
 },
 "nbformat": 4,
 "nbformat_minor": 4
}
