{
 "cells": [
  {
   "cell_type": "code",
   "execution_count": 1,
   "metadata": {},
   "outputs": [],
   "source": [
    "#!/usr/bin/env python"
   ]
  },
  {
   "cell_type": "markdown",
   "metadata": {},
   "source": [
    "# Grid_scale_scaling.ipynb"
   ]
  },
  {
   "cell_type": "code",
   "execution_count": 1,
   "metadata": {},
   "outputs": [
    {
     "data": {
      "text/plain": [
       "'File name: Grid_scale_scaling.ipynb\\n    Author: Andreas Prein\\n    E-mail: prein@ucar.edu\\n    Date created: 28.06.2022\\n    Date last modified: 28.06.2022\\n\\n    ############################################################## \\n    Purpos:\\n\\n    - Rean in hourly precipitation data from CONUS404 \\n    - Read in hourly dewpoint temperature data from CONUS404\\n    - Calculate scaling diagrams on grid scale level\\n    - Save the output for processing\\n\\n'"
      ]
     },
     "execution_count": 1,
     "metadata": {},
     "output_type": "execute_result"
    }
   ],
   "source": [
    "'''File name: Grid_scale_scaling.ipynb\n",
    "    Author: Andreas Prein\n",
    "    E-mail: prein@ucar.edu\n",
    "    Date created: 28.06.2022\n",
    "    Date last modified: 28.06.2022\n",
    "\n",
    "    ############################################################## \n",
    "    Purpos:\n",
    "\n",
    "    - Rean in hourly precipitation data from CONUS404 \n",
    "    - Read in hourly dewpoint temperature data from CONUS404\n",
    "    - Calculate scaling diagrams on grid scale level\n",
    "    - Save the output for processing\n",
    "\n",
    "'''"
   ]
  },
  {
   "cell_type": "code",
   "execution_count": 2,
   "metadata": {},
   "outputs": [],
   "source": [
    "import numpy as np\n",
    "from scipy import stats\n",
    "import matplotlib.pyplot as plt\n",
    "from netCDF4 import Dataset\n",
    "import glob\n",
    "import os\n",
    "from pdb import set_trace as stop\n",
    "from scipy.ndimage.filters import gaussian_filter\n",
    "from scipy.ndimage import median_filter\n",
    "from scipy.ndimage import label\n",
    "from matplotlib import cm\n",
    "from scipy import ndimage\n",
    "import random\n",
    "import scipy\n",
    "import pickle\n",
    "import datetime\n",
    "import pandas as pd\n",
    "import subprocess\n",
    "from calendar import monthrange\n",
    "import pandas as pd\n",
    "import datetime\n",
    "import sys \n",
    "import shapefile as shp\n",
    "import matplotlib.path as mplPath\n",
    "from scipy.stats import norm\n",
    "import matplotlib.gridspec as gridspec\n",
    "# from mpl_toolkits.basemap import Basemap, cm\n",
    "from matplotlib.colors import LinearSegmentedColormap\n",
    "import matplotlib.gridspec as gridspec\n",
    "from pylab import *\n",
    "import string\n",
    "from matplotlib.patches import Polygon\n",
    "from matplotlib.collections import PatchCollection\n",
    "import shapefile\n",
    "from calendar import monthrange\n",
    "from tqdm import tqdm\n",
    "import xarray as xr\n",
    "\n",
    "import cartopy.crs as ccrs\n",
    "import matplotlib.pyplot as plt\n",
    "import shapely.geometry as sgeom\n",
    "from matplotlib.colors import LogNorm\n",
    "from cartopy.feature import NaturalEarthFeature\n",
    "import cartopy.feature as cf\n",
    "\n",
    "from wrf import (to_np, getvar, smooth2d, get_cartopy, cartopy_xlim,\n",
    "                 cartopy_ylim, latlon_coords)\n",
    "\n",
    "def read_shapefile(sf):\n",
    "    \"\"\"\n",
    "    Read a shapefile into a Pandas dataframe with a 'coords' \n",
    "    column holding the geometry information. This uses the pyshp\n",
    "    package\n",
    "    \"\"\"\n",
    "    fields = [x[0] for x in sf.fields][1:]\n",
    "    records = sf.records()\n",
    "    shps = [s.points for s in sf.shapes()]\n",
    "    df = pd.DataFrame(columns=fields, data=records)\n",
    "    df = df.assign(coords=shps)\n",
    "    return df\n",
    "\n",
    "#### speed up interpolation\n",
    "import scipy.interpolate as spint\n",
    "import scipy.spatial.qhull as qhull\n",
    "import numpy as np\n",
    "\n",
    "def interp_weights(xy, uv,d=2):\n",
    "    tri = qhull.Delaunay(xy)\n",
    "    simplex = tri.find_simplex(uv)\n",
    "    vertices = np.take(tri.simplices, simplex, axis=0)\n",
    "    temp = np.take(tri.transform, simplex, axis=0)\n",
    "    delta = uv - temp[:, d]\n",
    "    bary = np.einsum('njk,nk->nj', temp[:, :d, :], delta)\n",
    "    return vertices, np.hstack((bary, 1 - bary.sum(axis=1, keepdims=True)))\n",
    "\n",
    "def interpolate(values, vtx, wts):\n",
    "    return np.einsum('nj,nj->n', np.take(values, vtx), wts)\n",
    "\n",
    "def deiscretice_timeseries(DATA,\n",
    "                          bucked_size):\n",
    "#     Discrete_timeseries = np.copy(DATA); Discrete_timeseries[:] = np.nan\n",
    "#     for tt in range(len(DATA)):\n",
    "#         if ~np.isnan(DATA[tt]) == True:   \n",
    "#             INT, REST = divmod(DATA[tt], bucked_size)\n",
    "#             Discrete_timeseries[tt] = INT * bucked_size\n",
    "#             if tt != len(DATA)-1:\n",
    "#                 DATA[tt+1] = DATA[tt+1]+REST\n",
    "#     return Discrete_timeseries\n",
    "\n",
    "    if len(DATA.shape) == 1:\n",
    "        # make data 2D\n",
    "        DATA = DATA[:,None]\n",
    "    Discrete_timeseries = np.copy(DATA); Discrete_timeseries[:] = np.nan\n",
    "    for tt in tqdm(range(DATA.shape[0])):\n",
    "        INT, REST = np.apply_along_axis(np.divmod, 0, DATA[tt,:], bucked_size)\n",
    "        FIN = ~np.isnan(INT)\n",
    "        Discrete_timeseries[tt,:] = INT * bucked_size\n",
    "        if tt != len(DATA)-1:\n",
    "            DATA[tt+1,FIN] = DATA[tt+1,FIN]+REST[FIN]\n",
    "    return Discrete_timeseries"
   ]
  },
  {
   "cell_type": "code",
   "execution_count": 3,
   "metadata": {},
   "outputs": [],
   "source": [
    "# ================================\n",
    "# BUKOFSKY REGION\n",
    "# Add the subregions\n",
    "import geopandas as gpd\n",
    "from tqdm import tqdm\n",
    "\n",
    "REGIONS = [ 'Appalachia.shp',\n",
    "            'CPlains.shp',\n",
    "            'DeepSouth.shp',\n",
    "            'GreatBasin.shp',\n",
    "            'GreatLakes.shp',\n",
    "            'Mezquital.shp',\n",
    "            'MidAtlantic.shp',\n",
    "            'NorthAtlantic.shp',\n",
    "            'NPlains.shp',\n",
    "            'NRockies.shp',\n",
    "            'PacificNW.shp',\n",
    "            'PacificSW.shp',\n",
    "            'Prairie.shp',\n",
    "            'Southeast.shp',\n",
    "            'Southwest.shp',\n",
    "            'SPlains.shp',\n",
    "            'SRockies.shp']\n",
    "\n",
    "REGIONS_names = [ 'Appalachia',\n",
    "            'Central Plains',\n",
    "            'Deep South',\n",
    "            'Great Basin',\n",
    "            'Great Lakes',\n",
    "            'Mezquital',\n",
    "            'Mid-Atlantic',\n",
    "            'North-Atlantic',\n",
    "            'Northern Plains',\n",
    "            'Northern Rockies',\n",
    "            'Pacific Northwest',\n",
    "            'Pacific Southwest',\n",
    "            'Prairie',\n",
    "            'Southeast',\n",
    "            'Southwest',\n",
    "            'Southern Plains',\n",
    "            'Southern Rockies']"
   ]
  },
  {
   "cell_type": "code",
   "execution_count": 4,
   "metadata": {},
   "outputs": [],
   "source": [
    "##############################################################\n",
    "#                READ CONUS404 CONSTANT FIELDS\n",
    "sLon='XLONG'\n",
    "sLat='XLAT'\n",
    "sOro='HGT'\n",
    "sLSM='LANDMASK'\n",
    "sPlotDir = ''\n",
    "GEO_EM_D1 = '/glade/campaign/ncar/USGS_Water/CONUS404/wrfconstants_d01_1979-10-01_00:00:00.nc4'\n",
    "\n",
    "ncid=Dataset(GEO_EM_D1, mode='r') # open the netcdf\n",
    "Lon=np.squeeze(ncid.variables[sLon][:])\n",
    "Lat=np.squeeze(ncid.variables[sLat][:])\n",
    "Height4=np.squeeze(ncid.variables[sOro][:])\n",
    "LSM=np.squeeze(ncid.variables[sLSM][:])\n",
    "ncid.close()\n",
    "\n",
    "N_SEC = 80 #int(sys.argv[1])\n",
    "SEC = 60 #int(sys.argv[2])\n",
    "\n",
    "# we slice the domain in latitude bands\n",
    "slices = np.linspace(0,Lat.shape[1]-1,N_SEC).astype(int)\n",
    "\n",
    "lon_W = slices[SEC]\n",
    "lon_E = slices[SEC+1]\n",
    "\n",
    "# cut out the coordinates\n",
    "Lon = Lon[:,lon_W:lon_E]\n",
    "Lat = Lat[:,lon_W:lon_E]"
   ]
  },
  {
   "cell_type": "code",
   "execution_count": 5,
   "metadata": {},
   "outputs": [],
   "source": [
    "DataFolder = '/glade/campaign/mmm/c3we/prein/CONUS404/data/MonthlyData/'\n",
    "SaveFolder = '/glade/campaign/mmm/c3we/prein/CONUS404/data/CONUS404_processed_data/pr_vs_dT/gridcell_scaling/'\n",
    "\n",
    "StartDay = datetime.datetime(1980, 1, 1, 0)\n",
    "StopDay = datetime.datetime(1980, 12, 31, 23) #datetime.datetime(2019, 12, 31, 23)\n",
    "TimeHH = pd.date_range(StartDay, end=StopDay, freq='1h')\n",
    "TimeMM = pd.date_range(StartDay, end=StopDay, freq='M')\n",
    "Years = np.unique(TimeMM.year)\n",
    "\n",
    "Seasons = ['annual','DJF','MAM','JJA','SON']\n",
    "rgiSeasons = [range(1,13,1),\n",
    "                 [1,2,12],\n",
    "                 [3,4,5],\n",
    "                 [6,7,8],\n",
    "                 [9,10,11]]\n",
    "\n",
    "dry_threshold = 0.1 # mm/h\n",
    "lag_hours = 2 # hours before the pr event that dT is taken"
   ]
  },
  {
   "cell_type": "markdown",
   "metadata": {},
   "source": [
    "### Read CONUS404 data and calculate scalling curves year by year\n",
    "This reads data that is preprocessed in - \n",
    "papers/2021_Hist-Ext-PR-Changes/programs/Scaling_Changes/Scaling_Changes.py"
   ]
  },
  {
   "cell_type": "code",
   "execution_count": 54,
   "metadata": {},
   "outputs": [],
   "source": [
    "bins_dT = np.arange(-30,35,2)\n",
    "bin_DT_cent = (bins_dT[1:] + bins_dT[:-1])/2\n",
    "pr_perc = (99, 99.5, 99.9, 99.99)\n",
    "prec_yy_all = np.array(np.zeros((len(Years), len(bins_dT), len(pr_perc), Lon.shape[0], Lon.shape[1]))); prec_yy_all[:] = np.nan\n",
    "\n",
    "# Bins according to DT\n",
    "NN = 100\n",
    "bins = np.array([0]+ [np.exp(np.log(0.005) + (ii* ((np.log(160)-np.log(0.005))**2/(NN)) )**0.5 ) for ii in range(NN)])\n",
    "bins_cent = (bins[1:]+bins[:-1])/2\n",
    "bins_width = bins[1:] - bins[:-1]\n",
    "dT_perc = (99.9, 99, 50, 1, 0.1)\n",
    "dT_yy_all = np.zeros((len(Years), len(bins_cent), len(dT_perc), Lon.shape[0], Lon.shape[1])); dT_yy_all[:] = np.nan"
   ]
  },
  {
   "cell_type": "code",
   "execution_count": 7,
   "metadata": {},
   "outputs": [
    {
     "name": "stderr",
     "output_type": "stream",
     "text": [
      "100%|██████████| 12/12 [15:07<00:00, 75.59s/it]\n"
     ]
    }
   ],
   "source": [
    "prec_all = np.zeros((len(TimeHH), Lon.shape[0], Lon.shape[1])); prec_all[:] = np.nan\n",
    "DT_all = np.copy(prec_all)\n",
    "\n",
    "for mm in tqdm(range(len(TimeMM))):\n",
    "    MM = TimeMM[mm].month\n",
    "    YYYY = TimeMM[mm].year\n",
    "    time_mm_in_yy = (TimeHH.month == MM) & (TimeHH.year == YYYY)\n",
    "\n",
    "    # read precipitation\n",
    "    File_act = DataFolder + 'PREC_ACC_NC_'+str(YYYY)+str(MM).zfill(2)+'_CONUS404.nc'\n",
    "    ncid=Dataset(File_act, mode='r') # open the netcdf\n",
    "    prec_all[time_mm_in_yy,:,:] = np.array(np.squeeze(ncid.variables['PREC_ACC_NC'][:,:,lon_W:lon_E]), dtype=np.float32)\n",
    "    ncid.close()\n",
    "\n",
    "    # read 2m dewpoint temperature\n",
    "    File_act = DataFolder + 'TD2_'+str(YYYY)+str(MM).zfill(2)+'_CONUS404.nc'\n",
    "    ncid=Dataset(File_act, mode='r') # open the netcdf\n",
    "    DT_all[time_mm_in_yy,:,:] = np.array(np.squeeze(ncid.variables['TD2'][:,:,lon_W:lon_E]), dtype=np.float32)-273.15\n",
    "    ncid.close()"
   ]
  },
  {
   "cell_type": "code",
   "execution_count": 45,
   "metadata": {},
   "outputs": [
    {
     "data": {
      "text/plain": [
       "array([1, 4, 3, 2, 1, 1, 0])"
      ]
     },
     "execution_count": 45,
     "metadata": {},
     "output_type": "execute_result"
    }
   ],
   "source": [
    "x = np.array([0.2, 6.4, 3.0, 1.6,0.1,0.3, -1])\n",
    "bins = np.array([0.0, 1.0, 2.5, 4.0, 10.0])\n",
    "inds = np.digitize(x, bins)\n",
    "inds"
   ]
  },
  {
   "cell_type": "code",
   "execution_count": 104,
   "metadata": {},
   "outputs": [
    {
     "name": "stderr",
     "output_type": "stream",
     "text": [
      "/glade/u/apps/dav/opt/python/3.7.9/gnu/9.1.0/pkg-library/20201220/lib/python3.7/site-packages/ipykernel_launcher.py:3: RuntimeWarning: invalid value encountered in less\n",
      "  This is separate from the ipykernel package so we can avoid doing imports until\n",
      "  0%|          | 0/1015 [00:00<?, ?it/s]/glade/u/apps/dav/opt/python/3.7.9/gnu/9.1.0/pkg-library/20201220/lib/python3.7/site-packages/numpy/lib/nanfunctions.py:1372: RuntimeWarning: All-NaN slice encountered\n",
      "  overwrite_input=overwrite_input, interpolation=interpolation\n",
      "100%|██████████| 1015/1015 [00:51<00:00, 19.86it/s]\n"
     ]
    }
   ],
   "source": [
    "# bin the data\n",
    "pr_binned = np.zeros((len(bin_DT_cent), len(pr_perc), Lon.shape[0], Lon.shape[1])); pr_binned[:] = np.nan\n",
    "prec_all[prec_all < dry_threshold] = np.nan\n",
    "\n",
    "def hist_1d(a):\n",
    "    return np.digitize(a, bins=bins_dT)\n",
    "\n",
    "counts = np.apply_along_axis(hist_1d, axis=0, arr=DT_all)\n",
    "\n",
    "for la in tqdm(range(Lon.shape[0])):\n",
    "    for lo in range(Lon.shape[1]):\n",
    "        for bi in range(1, len(bins_dT)):\n",
    "            counts_act = counts[:, la, lo] == bi\n",
    "            if np.sum(counts_act) > 100:\n",
    "                data_in_bin = np.nanpercentile(prec_all[counts_act,la,lo], pr_perc)\n",
    "                try:\n",
    "                    pr_binned[bi,:,la,lo] = data_in_bin\n",
    "                except:\n",
    "                    continue\n",
    "        \n",
    "# numpy.digitize(data, bins)\n",
    "# BINS = np.digitize(DT_all, bins_dT, axis = 0)\n",
    "\n",
    "# for bi in tqdm(range(len(bins_dT))):\n",
    "#     hours_in_bin = (DT_all > bins_dT[bi]-1) & (DT_all <= bins_dT[bi]+1)\n",
    "#     sample_size = np.sum(hours_in_bin, axis=0)\n",
    "    \n",
    "#     pr_in_bin = np.copy(prec_all)\n",
    "#     pr_in_bin[(hours_in_bin == False)] = np.nan\n",
    "#     pr_in_bin[dry_hours == True] = np.nan\n",
    "#     pr_binned[bi,:,:,:] = np.nanpercentile(pr_in_bin, pr_perc, axis=0)\n",
    "#     pr_binned[bi,:,sample_size < 10] = np.nan\n",
    "    \n",
    "# #     if len(pr_in_bin) >= 1000:\n",
    "# #         binned_pr[bi,:,re] = np.percentile(pr_in_bin, pr_perc)"
   ]
  },
  {
   "cell_type": "code",
   "execution_count": null,
   "metadata": {},
   "outputs": [],
   "source": []
  },
  {
   "cell_type": "code",
   "execution_count": null,
   "metadata": {},
   "outputs": [],
   "source": []
  },
  {
   "cell_type": "code",
   "execution_count": 105,
   "metadata": {},
   "outputs": [
    {
     "data": {
      "text/plain": [
       "[<matplotlib.lines.Line2D at 0x2ac14c4ea2d0>]"
      ]
     },
     "execution_count": 105,
     "metadata": {},
     "output_type": "execute_result"
    },
    {
     "data": {
      "image/png": "[encoded data removed]",
      "text/plain": [
       "<Figure size 432x288 with 1 Axes>"
      ]
     },
     "metadata": {
      "needs_background": "light"
     },
     "output_type": "display_data"
    }
   ],
   "source": [
    "plt.plot(bin_DT_cent, pr_binned[:,2,800,10])"
   ]
  },
  {
   "cell_type": "markdown",
   "metadata": {},
   "source": [
    "### Calculate Scaling Rates on grid cell level"
   ]
  },
  {
   "cell_type": "code",
   "execution_count": 108,
   "metadata": {},
   "outputs": [
    {
     "name": "stderr",
     "output_type": "stream",
     "text": [
      "  0%|          | 0/1014 [00:00<?, ?it/s]/glade/u/apps/dav/opt/python/3.7.9/gnu/9.1.0/pkg-library/20201220/lib/python3.7/site-packages/scipy/optimize/minpack.py:829: OptimizeWarning: Covariance of the parameters could not be estimated\n",
      "  category=OptimizeWarning)\n",
      "100%|██████████| 1014/1014 [00:08<00:00, 126.22it/s]\n"
     ]
    }
   ],
   "source": [
    "# fit exponential curves to data to estimate scaling rates\n",
    "scaling_rate = np.zeros((Lon.shape[0], Lon.shape[1])); scaling_rate[:] = np.nan\n",
    "scaling_rate_std = np.copy(scaling_rate)\n",
    "\n",
    "from scipy.optimize import curve_fit\n",
    "def func(x, li, sc):\n",
    "    return li * (1+sc)**x\n",
    "\n",
    "pool = 0\n",
    "for la in tqdm(range(pool, Lon.shape[0]-pool-1, 1)):\n",
    "    for lo in range(pool, Lon.shape[1]-pool-1, 1):\n",
    "        peak_x = bin_DT_cent\n",
    "        peak_y = pr_binned[:,2,la-pool:la+pool+1,lo-pool:lo+pool+1].flatten()\n",
    "        FIN = ~np.isnan(peak_y)\n",
    "        try:\n",
    "            popt, pcov = curve_fit(func, peak_x[FIN], peak_y[FIN], maxfev=800, p0 = [22,0.07])\n",
    "            perr = np.sqrt(np.diag(pcov))\n",
    "            scaling_rate[la,lo] = popt[1]*100\n",
    "            scaling_rate_std[la,lo] = perr[1]*100\n",
    "        except:\n",
    "            continue"
   ]
  },
  {
   "cell_type": "markdown",
   "metadata": {},
   "source": [
    "### Save the data for future processing"
   ]
  },
  {
   "cell_type": "code",
   "execution_count": 55,
   "metadata": {},
   "outputs": [],
   "source": [
    "save_file = SaveFolder+'Gridcell-scaling_'+str(TimeMM[0].year)+'-'+str(TimeMM[-1].year)+'_section_'+str(SEC)+'.npz'\n",
    "np.savez(save_file,\n",
    "         TimeHH = TimeHH,\n",
    "         SEC = SEC,\n",
    "         Lon = Lon,\n",
    "         Lat = Lat,\n",
    "         bins_dT = bins_dT,\n",
    "         pr_binned = pr_binned,\n",
    "         pr_perc = pr_perc,\n",
    "         dry_threshold = dry_threshold,\n",
    "         scaling_rate = scaling_rate,\n",
    "         scaling_rate_std = scaling_rate_std)\n",
    "         "
   ]
  },
  {
   "cell_type": "code",
   "execution_count": null,
   "metadata": {},
   "outputs": [],
   "source": []
  }
 ],
 "metadata": {
  "kernelspec": {
   "display_name": "Python 3",
   "language": "python",
   "name": "python3"
  },
  "language_info": {
   "codemirror_mode": {
    "name": "ipython",
    "version": 3
   },
   "file_extension": ".py",
   "mimetype": "text/x-python",
   "name": "python",
   "nbconvert_exporter": "python",
   "pygments_lexer": "ipython3",
   "version": "3.7.9"
  }
 },
 "nbformat": 4,
 "nbformat_minor": 4
}
